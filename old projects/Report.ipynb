{
 "cells": [
  {
   "cell_type": "code",
   "execution_count": null,
   "metadata": {
    "id": "h0LVvvnfJsg5"
   },
   "outputs": [],
   "source": [
    "# Import pandas\n",
    "import pandas as pd"
   ]
  },
  {
   "cell_type": "code",
   "execution_count": null,
   "metadata": {
    "id": "rv2oLRnPK36J"
   },
   "outputs": [],
   "source": [
    "# Create a DataFrame with balance.txt\n",
    "df = pd.read_csv('balance.txt', delim_whitespace=True)"
   ]
  },
  {
   "cell_type": "markdown",
   "metadata": {
    "id": "_LXpBJXZLYoh"
   },
   "source": [
    "Write the code needed to produce a report that provides the following information:\n",
    "* Compare the average income based on ethnicity.\n",
    "* On average, do married or single people have a higher balance?\n",
    "* What is the highest income in our dataset?\n",
    "* What is the lowest income in our dataset?\n",
    "* How many cards do we have recorded in our dataset? (Hint: use `sum()`)\n",
    "* How many females do we have information for vs how many males? (Hint: use `count()` for a list of all methods for computation of descriptive stats, explore the [pandas documentation](https://pandas.pydata.org/pandas-docs/stable/reference/frame.html#computations-descriptive-stats)).\n",
    "\n",
    "\n"
   ]
  },
  {
   "cell_type": "code",
   "execution_count": null,
   "metadata": {},
   "outputs": [],
   "source": [
    "print(\"The average income of an Asian person is\", df[df.Ethnicity ==\"Asian\".loc[:,\"Income\"]].mean())\n",
    "print(\"The average income of a Caucasian person is\", df[df.Ethnicity ==\"Caucasian\".loc[:,\"Income\"]].mean())\n",
    "print(\"The average income of an African American person is\", df[df.Ethnicity ==\"African American\".loc[:,\"Income\"]].mean())\n",
    "\n",
    "print(\"The average balance of a married person is\", df[df.Married == \"Yes\".loc[:,\"Balance\"]].mean())\n",
    "print(\"The average balance of a single person is\", df[df.Married == \"No\".loc[:,\"Balance\"]].mean())\n",
    "\n",
    "print(\"The highest income in our dataset is\", df.loc[:,\"Income\"].max())\n",
    "print(\"The lowest income in our dataset is\", df.loc[:, \"Income\"].min())\n",
    "\n",
    "print(\"The number of cards recorded in our dataset is\", df.loc[:,\"Cards\"].sum())\n",
    "print(\"The number of females we have information for is\", df.Gender == \"Female\".loc[:,\"Gender\"].count() )\n",
    "print(\"The number of males we have information for is\", df.Gender == \"Male\".loc[:,\"Gender\"].count())\n"
   ]
  }
 ],
 "metadata": {
  "colab": {
   "provenance": []
  },
  "kernelspec": {
   "display_name": "Python 3 (ipykernel)",
   "language": "python",
   "name": "python3"
  },
  "language_info": {
   "name": "python"
  }
 },
 "nbformat": 4,
 "nbformat_minor": 1
}
