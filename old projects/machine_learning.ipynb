{
 "cells": [
  {
   "cell_type": "markdown",
   "metadata": {
    "id": "IBb6nSAY5T4I"
   },
   "source": [
    "# Machine Learning\n",
    "## Compulsory task"
   ]
  },
  {
   "cell_type": "markdown",
   "metadata": {
    "id": "N02Qu9_f1N45"
   },
   "source": [
    "1. For each of the following examples describe at least one possible input and\n",
    "output. Justify your answers:  \n",
    "* 1.1 A self-driving car\n",
    "* 1.2 Netflix recommendation system\n",
    "* 1.3 Signature recognition\n",
    "* 1.4 Medical diagnosis\n"
   ]
  },
  {
   "cell_type": "markdown",
   "metadata": {
    "id": "-8aBqprP3ypo"
   },
   "source": [
    "1. Answer here\n",
    "\n",
    "|      | Input(s)    | Output     |\n",
    "| ---- | ----------- | ---------  |\n",
    "| 1.1  |The location of other cars and people|How close to the other cars it is|\n",
    "| 1.2  |Films a user had watched previously|Films witha similar genre or starring actors|\n",
    "| 1.3  |A person's signature|How closely it matches with other signatures in the database|\n",
    "| 1.4  |A patient's symptoms and the symptoms of different illnesses|The illness that has the most closely matching symptoms|"
   ]
  },
  {
   "cell_type": "markdown",
   "metadata": {
    "id": "l_I2f4C85yNF"
   },
   "source": [
    "\n",
    "2. For each of the following case studies, determine whether it is appropriate to utilise regression or classification machine learning algorithms. Justify your answers:\n",
    "* 2.1 Classifying emails as promotion or social based on their content and metadata.\n",
    "* 2.2 Forecasting the stock price of a company based on historical data and market trends.\n",
    "* 2.3 Sorting images of animals into different species based on their visual features.\n",
    "* 2.4 Predicting the likelihood of a patient having a particular disease based on medical history and diagnostic test results."
   ]
  },
  {
   "cell_type": "markdown",
   "metadata": {
    "id": "WgMUsqQr6qFU"
   },
   "source": [
    "2. Answer here\n",
    "* 2.1 Classification as it it aiming to sort emails into 2 distinct categories\n",
    "* 2.2 Regression as it is aiming to predict new pieces of data based on previous data\n",
    "* 2.3 Classification as it is aiming to sort images of animals into categories of their species\n",
    "* 2.4 Regression  it is aiming to predict what will happen based on the historical data inputed"
   ]
  },
  {
   "cell_type": "markdown",
   "metadata": {
    "id": "b6f8UETG64hH"
   },
   "source": [
    "3. For each of the following real-world problems, determine whether it is appropriate to utilise a supervised or unsupervised machine learning algorithm. Justify your answers:\n",
    "* 3.1 Detecting anomalies in a manufacturing process using sensor data without prior knowledge of specific anomaly patterns.\n",
    "* 3.2 Predicting customer lifetime value based on historical transaction data and customer demographics.\n",
    "* 3.3 Segmenting customer demographics based on their purchase history, browsing behaviour, and preferences.\n",
    "* 3.4 Analysing social media posts to categorise them into different themes.\n"
   ]
  },
  {
   "cell_type": "markdown",
   "metadata": {
    "id": "W6dTYBvd675O"
   },
   "source": [
    "3. Answer here\n",
    "* 3.1 Unsupervised Learning as it is not learning based on previous data it is using current data to learn and identify the patterns and which pieces of data do not fit those patterns\n",
    "* 3.2 Supervised Learning as it would be using a set of previous customer transaction and demographic data to form an understanding and therefore create patterns\n",
    "* 3.3 Supervised Learning as it is using a set of previous data that relates to what it is trying to learn and craete patterns from\n",
    "* 3.4 Unsupervised Learning s the data it is using is not fied and is constantly changing so therefore is trying to predict and create patters in real time"
   ]
  },
  {
   "cell_type": "markdown",
   "metadata": {
    "id": "bqsun96o64xe"
   },
   "source": [
    "4.\n",
    "For each of the following real-world problems, determine whether it is appropriate to utilise semi-supervised machine learning algorithms. Justify your answers:\n",
    "* 4.1 Predicting fraudulent financial transactions using a dataset where most transactions are labelled as fraudulent or legitimate.\n",
    "* 4.2 Analysing customer satisfaction surveys where only a small portion of the data is labelled with satisfaction ratings.\n",
    "* 4.3 Identifying spam emails in a dataset where the majority of emails are labelled.\n",
    "* 4.4 Predicting the probability of default for credit card applicants based on their complete financial and credit-related information.\n"
   ]
  },
  {
   "cell_type": "markdown",
   "metadata": {
    "id": "aTWugZ6q68GF"
   },
   "source": [
    "4. Answer here\n",
    "* 4.1This does not require a semi supervised algorithm as most of the data is labelled\n",
    "* 4.2This would be appropriate to use a semi supervised learning algorithm as only some of the data is labelled and so the algorithm needs to create some patterns itself\n",
    "* 4.3Tihs does not require a semi supervised algorithm as most of the data is labelled\n",
    "* 4.4This does not require a semi supervised algorithm as the data is complete and labeled"
   ]
  }
 ],
 "metadata": {
  "colab": {
   "provenance": []
  },
  "kernelspec": {
   "display_name": "Python 3 (ipykernel)",
   "language": "python",
   "name": "python3"
  },
  "language_info": {
   "name": "python"
  }
 },
 "nbformat": 4,
 "nbformat_minor": 1
}
