{
 "cells": [
  {
   "cell_type": "code",
   "execution_count": null,
   "id": "cbc7a227",
   "metadata": {},
   "outputs": [],
   "source": [
    "import matplotlib.pyplot as plt\n",
    "import numpy as np\n",
    "import pandas as pd\n",
    "from sklearn.linear_model import LinearRegression\n",
    "%matplotlib inline\n",
    "\n"
   ]
  },
  {
   "cell_type": "code",
   "execution_count": null,
   "id": "9270a633",
   "metadata": {},
   "outputs": [],
   "source": [
    "insurance_data = pd.read_csv(\"insurance.csv\")\n",
    "insurance_data.head()\n"
   ]
  },
  {
   "cell_type": "code",
   "execution_count": null,
   "id": "50b01a7e",
   "metadata": {},
   "outputs": [],
   "source": [
    "x = insurance_data.iloc[:,:1].values\n",
    "y = insurance_data.iloc[:,-1].values\n",
    "\n",
    "plt.scatter(x,y,color = \"b\", marker = \"+\")\n",
    "plt.xlabel(\"Age\")\n",
    "plt.ylabel(\"Charges\")\n",
    "plt.show()"
   ]
  },
  {
   "cell_type": "code",
   "execution_count": null,
   "id": "a9159f73",
   "metadata": {},
   "outputs": [],
   "source": [
    "Insurance_Model = LinearRegression()\n",
    "#Insurance_Model.fit(x,y)"
   ]
  },
  {
   "cell_type": "code",
   "execution_count": null,
   "id": "fdff3655",
   "metadata": {},
   "outputs": [],
   "source": [
    "y_pr = Insurance_Model.predict(x)  #predicting the charges for people with various ages\n",
    "\n",
    "plt.scatter(x,y,color = \"b\", marker = \"+\")\n",
    "plt.plot(x,y_pr,color = \"r\")\n",
    "plt.xlabel(\"Age\")\n",
    "plt.ylabel(\"Charges\")\n",
    "plt.legend()\n",
    "\n",
    "plt.show()"
   ]
  }
 ],
 "metadata": {
  "kernelspec": {
   "display_name": "Python 3 (ipykernel)",
   "language": "python",
   "name": "python3"
  }
 },
 "nbformat": 4,
 "nbformat_minor": 5
}
