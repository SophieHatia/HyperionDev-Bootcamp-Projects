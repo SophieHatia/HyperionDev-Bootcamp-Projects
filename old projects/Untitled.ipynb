{
 "cells": [
  {
   "cell_type": "code",
   "execution_count": null,
   "id": "db4abbb9",
   "metadata": {},
   "outputs": [],
   "source": [
    "import matplotlib.pyplot as "
   ]
  }
 ],
 "metadata": {
  "kernelspec": {
   "display_name": "Python 3 (ipykernel)",
   "language": "python",
   "name": "python3"
  }
 },
 "nbformat": 4,
 "nbformat_minor": 5
}
